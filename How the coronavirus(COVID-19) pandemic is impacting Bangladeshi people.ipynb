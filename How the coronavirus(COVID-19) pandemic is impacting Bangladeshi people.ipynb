{
  "nbformat": 4,
  "nbformat_minor": 0,
  "metadata": {
    "colab": {
      "name": "Untitled10.ipynb",
      "provenance": [],
      "collapsed_sections": [],
      "mount_file_id": "1nzW2h5EQ6wUrX5pH5MnrP-nuvuOD-tCq",
      "authorship_tag": "ABX9TyNl/eyCqbbd+Jzaw7ZNFSfd",
      "include_colab_link": true
    },
    "kernelspec": {
      "name": "python3",
      "display_name": "Python 3"
    }
  },
  "cells": [
    {
      "cell_type": "markdown",
      "metadata": {
        "id": "view-in-github",
        "colab_type": "text"
      },
      "source": [
        "<a href=\"https://colab.research.google.com/github/momnuljmc/Shohan.github.io/blob/master/How%20the%20coronavirus(COVID-19)%20pandemic%20is%20impacting%20Bangladeshi%20people.ipynb\" target=\"_parent\"><img src=\"https://colab.research.google.com/assets/colab-badge.svg\" alt=\"Open In Colab\"/></a>"
      ]
    },
    {
      "cell_type": "code",
      "metadata": {
        "colab": {
          "base_uri": "https://localhost:8080/"
        },
        "id": "MlMwB-M3mnf4",
        "outputId": "b45ec219-a1bb-403b-f901-4ea2b4528cbd"
      },
      "source": [
        "from google.colab import drive\n",
        "drive.mount('/gdrive')\n",
        "%cd /gdrive"
      ],
      "execution_count": null,
      "outputs": [
        {
          "output_type": "stream",
          "text": [
            "Mounted at /gdrive\n",
            "/gdrive\n"
          ],
          "name": "stdout"
        }
      ]
    },
    {
      "cell_type": "code",
      "metadata": {
        "id": "cdqhDVo0ioPx"
      },
      "source": [
        "import pandas as pd"
      ],
      "execution_count": null,
      "outputs": []
    },
    {
      "cell_type": "code",
      "metadata": {
        "id": "P6TbO6KZjItP"
      },
      "source": [
        "df= pd.read_csv('/content/drive/MyDrive/Dataset/Form.csv')"
      ],
      "execution_count": null,
      "outputs": []
    },
    {
      "cell_type": "code",
      "metadata": {
        "colab": {
          "base_uri": "https://localhost:8080/",
          "height": 803
        },
        "id": "AgadBQDIjTby",
        "outputId": "ffbc707a-4eec-4198-d849-1f88533a2a45"
      },
      "source": [
        "df"
      ],
      "execution_count": null,
      "outputs": [
        {
          "output_type": "execute_result",
          "data": {
            "text/html": [
              "<div>\n",
              "<style scoped>\n",
              "    .dataframe tbody tr th:only-of-type {\n",
              "        vertical-align: middle;\n",
              "    }\n",
              "\n",
              "    .dataframe tbody tr th {\n",
              "        vertical-align: top;\n",
              "    }\n",
              "\n",
              "    .dataframe thead th {\n",
              "        text-align: right;\n",
              "    }\n",
              "</style>\n",
              "<table border=\"1\" class=\"dataframe\">\n",
              "  <thead>\n",
              "    <tr style=\"text-align: right;\">\n",
              "      <th></th>\n",
              "      <th>What's your profession?(আপনার পেশা)</th>\n",
              "      <th>Enter your Home district:(আপনার জেলা)</th>\n",
              "      <th>How many members of your family? (আপনার পরিবারের   সদস্য সংখ্যা)</th>\n",
              "      <th>Select your  father's profession(If you're a student):(আপনার বাবা কি করেন)</th>\n",
              "      <th>Select your  mother's profession(If you're a student)</th>\n",
              "      <th>There have any corona patients in your family?</th>\n",
              "      <th>How is your family / your financial condition now?(আপনার বা আপনার পরিবারের আর্থিক অবস্থা এখন কেমন)</th>\n",
              "      <th>Have you faced any problem with your family? (আপনি কি আপনার পরিবারে কোন রকম সমস্যার</th>\n",
              "      <th>How is going on your study/job in this corona crisis? করোনা সঙ্গটে আপনার পড়াশোনা / আজ কেমন চলছে)</th>\n",
              "      <th>How is the relationship with your family in this corona crisis?</th>\n",
              "      <th>In which part you spend your time most in the corona pandemic?</th>\n",
              "      <th>How is your mental condition in this pandemic?</th>\n",
              "    </tr>\n",
              "  </thead>\n",
              "  <tbody>\n",
              "    <tr>\n",
              "      <th>0</th>\n",
              "      <td>NaN</td>\n",
              "      <td>NaN</td>\n",
              "      <td>NaN</td>\n",
              "      <td>NaN</td>\n",
              "      <td>NaN</td>\n",
              "      <td>NaN</td>\n",
              "      <td>NaN</td>\n",
              "      <td>NaN</td>\n",
              "      <td>NaN</td>\n",
              "      <td>NaN</td>\n",
              "      <td>NaN</td>\n",
              "      <td>NaN</td>\n",
              "    </tr>\n",
              "    <tr>\n",
              "      <th>1</th>\n",
              "      <td>Unofficial Job</td>\n",
              "      <td>Cumilla</td>\n",
              "      <td>6.0</td>\n",
              "      <td>Business</td>\n",
              "      <td>Housewife</td>\n",
              "      <td>No</td>\n",
              "      <td>Low</td>\n",
              "      <td>Yes</td>\n",
              "      <td>Not good</td>\n",
              "      <td>Conflicting</td>\n",
              "      <td>Sleep all day long</td>\n",
              "      <td>Depressed</td>\n",
              "    </tr>\n",
              "    <tr>\n",
              "      <th>2</th>\n",
              "      <td>Student</td>\n",
              "      <td>Dhaka</td>\n",
              "      <td>5.0</td>\n",
              "      <td>Unofficial Job</td>\n",
              "      <td>Housewife</td>\n",
              "      <td>No</td>\n",
              "      <td>Low</td>\n",
              "      <td>No</td>\n",
              "      <td>Not good</td>\n",
              "      <td>Well</td>\n",
              "      <td>Family</td>\n",
              "      <td>Depressed</td>\n",
              "    </tr>\n",
              "    <tr>\n",
              "      <th>3</th>\n",
              "      <td>Student</td>\n",
              "      <td>Narshingdi</td>\n",
              "      <td>4.0</td>\n",
              "      <td>Business</td>\n",
              "      <td>Housewife</td>\n",
              "      <td>No</td>\n",
              "      <td>Moderate</td>\n",
              "      <td>Yes</td>\n",
              "      <td>Not good</td>\n",
              "      <td>Friendly</td>\n",
              "      <td>by doing productive something</td>\n",
              "      <td>Depressed</td>\n",
              "    </tr>\n",
              "    <tr>\n",
              "      <th>4</th>\n",
              "      <td>Student</td>\n",
              "      <td>Kurigram</td>\n",
              "      <td>4.0</td>\n",
              "      <td>Official Job</td>\n",
              "      <td>Housewife</td>\n",
              "      <td>No</td>\n",
              "      <td>Good</td>\n",
              "      <td>No</td>\n",
              "      <td>Good</td>\n",
              "      <td>Well</td>\n",
              "      <td>by doing productive something</td>\n",
              "      <td>Well</td>\n",
              "    </tr>\n",
              "    <tr>\n",
              "      <th>...</th>\n",
              "      <td>...</td>\n",
              "      <td>...</td>\n",
              "      <td>...</td>\n",
              "      <td>...</td>\n",
              "      <td>...</td>\n",
              "      <td>...</td>\n",
              "      <td>...</td>\n",
              "      <td>...</td>\n",
              "      <td>...</td>\n",
              "      <td>...</td>\n",
              "      <td>...</td>\n",
              "      <td>...</td>\n",
              "    </tr>\n",
              "    <tr>\n",
              "      <th>134</th>\n",
              "      <td>Student</td>\n",
              "      <td>Faridpur</td>\n",
              "      <td>6.0</td>\n",
              "      <td>Retired of Police</td>\n",
              "      <td>Housewife</td>\n",
              "      <td>No</td>\n",
              "      <td>Moderate</td>\n",
              "      <td>No</td>\n",
              "      <td>Not good</td>\n",
              "      <td>Friendly</td>\n",
              "      <td>Family</td>\n",
              "      <td>Anxity</td>\n",
              "    </tr>\n",
              "    <tr>\n",
              "      <th>135</th>\n",
              "      <td>Student</td>\n",
              "      <td>শরীয়তপুর</td>\n",
              "      <td>9.0</td>\n",
              "      <td>Official Job</td>\n",
              "      <td>Housewife</td>\n",
              "      <td>No</td>\n",
              "      <td>Moderate</td>\n",
              "      <td>No</td>\n",
              "      <td>Not good</td>\n",
              "      <td>Friendly</td>\n",
              "      <td>Family</td>\n",
              "      <td>Depressed</td>\n",
              "    </tr>\n",
              "    <tr>\n",
              "      <th>136</th>\n",
              "      <td>Student</td>\n",
              "      <td>dhaka</td>\n",
              "      <td>5.0</td>\n",
              "      <td>Business</td>\n",
              "      <td>Housewife</td>\n",
              "      <td>no</td>\n",
              "      <td>Moderate</td>\n",
              "      <td>No</td>\n",
              "      <td>Not good</td>\n",
              "      <td>Very well</td>\n",
              "      <td>Family</td>\n",
              "      <td>Well</td>\n",
              "    </tr>\n",
              "    <tr>\n",
              "      <th>137</th>\n",
              "      <td>Student</td>\n",
              "      <td>Dhaka</td>\n",
              "      <td>4.0</td>\n",
              "      <td>Official Job</td>\n",
              "      <td>Housewife</td>\n",
              "      <td>No</td>\n",
              "      <td>Good</td>\n",
              "      <td>No</td>\n",
              "      <td>Not good</td>\n",
              "      <td>Friendly</td>\n",
              "      <td>Family</td>\n",
              "      <td>Tensed</td>\n",
              "    </tr>\n",
              "    <tr>\n",
              "      <th>138</th>\n",
              "      <td>Official Job</td>\n",
              "      <td>Narayanganj</td>\n",
              "      <td>7.0</td>\n",
              "      <td>Business</td>\n",
              "      <td>Housewife</td>\n",
              "      <td>No</td>\n",
              "      <td>Moderate</td>\n",
              "      <td>No</td>\n",
              "      <td>Not good</td>\n",
              "      <td>Very well</td>\n",
              "      <td>By doing nothing or leisurely</td>\n",
              "      <td>Tensed</td>\n",
              "    </tr>\n",
              "  </tbody>\n",
              "</table>\n",
              "<p>139 rows × 12 columns</p>\n",
              "</div>"
            ],
            "text/plain": [
              "    What's your profession?(আপনার পেশা)  ... How is your mental condition in this pandemic?\n",
              "0                                   NaN  ...                                            NaN\n",
              "1                        Unofficial Job  ...                                      Depressed\n",
              "2                               Student  ...                                      Depressed\n",
              "3                               Student  ...                                      Depressed\n",
              "4                               Student  ...                                           Well\n",
              "..                                  ...  ...                                            ...\n",
              "134                             Student  ...                                         Anxity\n",
              "135                             Student  ...                                      Depressed\n",
              "136                             Student  ...                                           Well\n",
              "137                             Student  ...                                         Tensed\n",
              "138                        Official Job  ...                                         Tensed\n",
              "\n",
              "[139 rows x 12 columns]"
            ]
          },
          "metadata": {
            "tags": []
          },
          "execution_count": 5
        }
      ]
    },
    {
      "cell_type": "code",
      "metadata": {
        "id": "1CMtu89vjUAq"
      },
      "source": [
        "import numpy as np\r\n",
        "import seaborn as sns\r\n",
        "import matplotlib.pyplot as plt\r\n"
      ],
      "execution_count": null,
      "outputs": []
    },
    {
      "cell_type": "code",
      "metadata": {
        "colab": {
          "base_uri": "https://localhost:8080/"
        },
        "id": "HmAVgyBpj1pw",
        "outputId": "08eeaefc-ba57-4cca-a866-80a1fb4cbbeb"
      },
      "source": [
        "df.isnull().values.any()"
      ],
      "execution_count": null,
      "outputs": [
        {
          "output_type": "execute_result",
          "data": {
            "text/plain": [
              "True"
            ]
          },
          "metadata": {
            "tags": []
          },
          "execution_count": 15
        }
      ]
    },
    {
      "cell_type": "code",
      "metadata": {
        "colab": {
          "base_uri": "https://localhost:8080/",
          "height": 290
        },
        "id": "KX-mYyljkEYu",
        "outputId": "3c4f81ed-675f-4646-c37d-a5c7aa553e5c"
      },
      "source": [
        "df.describe()"
      ],
      "execution_count": null,
      "outputs": [
        {
          "output_type": "execute_result",
          "data": {
            "text/html": [
              "<div>\n",
              "<style scoped>\n",
              "    .dataframe tbody tr th:only-of-type {\n",
              "        vertical-align: middle;\n",
              "    }\n",
              "\n",
              "    .dataframe tbody tr th {\n",
              "        vertical-align: top;\n",
              "    }\n",
              "\n",
              "    .dataframe thead th {\n",
              "        text-align: right;\n",
              "    }\n",
              "</style>\n",
              "<table border=\"1\" class=\"dataframe\">\n",
              "  <thead>\n",
              "    <tr style=\"text-align: right;\">\n",
              "      <th></th>\n",
              "      <th>How many members of your family? (আপনার পরিবারের   সদস্য সংখ্যা)</th>\n",
              "    </tr>\n",
              "  </thead>\n",
              "  <tbody>\n",
              "    <tr>\n",
              "      <th>count</th>\n",
              "      <td>138.000000</td>\n",
              "    </tr>\n",
              "    <tr>\n",
              "      <th>mean</th>\n",
              "      <td>4.782609</td>\n",
              "    </tr>\n",
              "    <tr>\n",
              "      <th>std</th>\n",
              "      <td>1.546076</td>\n",
              "    </tr>\n",
              "    <tr>\n",
              "      <th>min</th>\n",
              "      <td>2.000000</td>\n",
              "    </tr>\n",
              "    <tr>\n",
              "      <th>25%</th>\n",
              "      <td>4.000000</td>\n",
              "    </tr>\n",
              "    <tr>\n",
              "      <th>50%</th>\n",
              "      <td>4.000000</td>\n",
              "    </tr>\n",
              "    <tr>\n",
              "      <th>75%</th>\n",
              "      <td>5.750000</td>\n",
              "    </tr>\n",
              "    <tr>\n",
              "      <th>max</th>\n",
              "      <td>12.000000</td>\n",
              "    </tr>\n",
              "  </tbody>\n",
              "</table>\n",
              "</div>"
            ],
            "text/plain": [
              "       How many members of your family? (আপনার পরিবারের   সদস্য সংখ্যা)\n",
              "count                                         138.000000               \n",
              "mean                                            4.782609               \n",
              "std                                             1.546076               \n",
              "min                                             2.000000               \n",
              "25%                                             4.000000               \n",
              "50%                                             4.000000               \n",
              "75%                                             5.750000               \n",
              "max                                            12.000000               "
            ]
          },
          "metadata": {
            "tags": []
          },
          "execution_count": 16
        }
      ]
    },
    {
      "cell_type": "code",
      "metadata": {
        "colab": {
          "base_uri": "https://localhost:8080/"
        },
        "id": "oD-5Ymh8kH7s",
        "outputId": "501e2e5a-5d24-4bf2-e9e2-c19d2f06698c"
      },
      "source": [
        "df['There have any corona patients in your family?'].value_counts()"
      ],
      "execution_count": null,
      "outputs": [
        {
          "output_type": "execute_result",
          "data": {
            "text/plain": [
              "No                                                   90\n",
              "no                                                   18\n",
              "Na                                                    7\n",
              "না                                                    6\n",
              "Yes                                                   5\n",
              "na                                                    3\n",
              "NO                                                    3\n",
              "according to the symptoms 4 members are affected      2\n",
              "No.                                                   1\n",
              "Chilo                                                 1\n",
              "Yes, there was.                                       1\n",
              "Name: There have any corona patients in your family?, dtype: int64"
            ]
          },
          "metadata": {
            "tags": []
          },
          "execution_count": 19
        }
      ]
    },
    {
      "cell_type": "code",
      "metadata": {
        "colab": {
          "base_uri": "https://localhost:8080/",
          "height": 910
        },
        "id": "Gyb8hGpWkpb2",
        "outputId": "df6386cb-1602-49cc-dfca-31c36f38236f"
      },
      "source": [
        "plt.subplots(figsize=(13,12))\r\n",
        "sns.countplot(df['There have any corona patients in your family?'])\r\n"
      ],
      "execution_count": null,
      "outputs": [
        {
          "output_type": "stream",
          "text": [
            "/usr/local/lib/python3.7/dist-packages/seaborn/_decorators.py:43: FutureWarning: Pass the following variable as a keyword arg: x. From version 0.12, the only valid positional argument will be `data`, and passing other arguments without an explicit keyword will result in an error or misinterpretation.\n",
            "  FutureWarning\n"
          ],
          "name": "stderr"
        },
        {
          "output_type": "execute_result",
          "data": {
            "text/plain": [
              "<matplotlib.axes._subplots.AxesSubplot at 0x7fa0f06a1e10>"
            ]
          },
          "metadata": {
            "tags": []
          },
          "execution_count": 37
        },
        {
          "output_type": "stream",
          "text": [
            "/usr/local/lib/python3.7/dist-packages/matplotlib/backends/backend_agg.py:214: RuntimeWarning: Glyph 2472 missing from current font.\n",
            "  font.set_text(s, 0.0, flags=flags)\n",
            "/usr/local/lib/python3.7/dist-packages/matplotlib/backends/backend_agg.py:214: RuntimeWarning: Glyph 2494 missing from current font.\n",
            "  font.set_text(s, 0.0, flags=flags)\n",
            "/usr/local/lib/python3.7/dist-packages/matplotlib/backends/backend_agg.py:183: RuntimeWarning: Glyph 2472 missing from current font.\n",
            "  font.set_text(s, 0, flags=flags)\n",
            "/usr/local/lib/python3.7/dist-packages/matplotlib/backends/backend_agg.py:183: RuntimeWarning: Glyph 2494 missing from current font.\n",
            "  font.set_text(s, 0, flags=flags)\n"
          ],
          "name": "stderr"
        },
        {
          "output_type": "display_data",
          "data": {
            "image/png": "[encoded data removed]",
            "text/plain": [
              "<Figure size 936x864 with 1 Axes>"
            ]
          },
          "metadata": {
            "tags": [],
            "needs_background": "light"
          }
        }
      ]
    },
    {
      "cell_type": "code",
      "metadata": {
        "colab": {
          "base_uri": "https://localhost:8080/",
          "height": 548
        },
        "id": "gMCC6XRZoEEx",
        "outputId": "a5568e0d-049e-4f4f-867b-eee5d9a129ff"
      },
      "source": [
        "plt.subplots(figsize=(14,6))\r\n",
        "sns.countplot(x='How is the relationship with your family in this corona crisis?', hue='There have any corona patients in your family?',data=df,palette = 'colorblind')\r\n"
      ],
      "execution_count": null,
      "outputs": [
        {
          "output_type": "execute_result",
          "data": {
            "text/plain": [
              "<matplotlib.axes._subplots.AxesSubplot at 0x7fa0f0ab3e90>"
            ]
          },
          "metadata": {
            "tags": []
          },
          "execution_count": 32
        },
        {
          "output_type": "stream",
          "text": [
            "/usr/local/lib/python3.7/dist-packages/matplotlib/backends/backend_agg.py:214: RuntimeWarning: Glyph 2472 missing from current font.\n",
            "  font.set_text(s, 0.0, flags=flags)\n",
            "/usr/local/lib/python3.7/dist-packages/matplotlib/backends/backend_agg.py:214: RuntimeWarning: Glyph 2494 missing from current font.\n",
            "  font.set_text(s, 0.0, flags=flags)\n",
            "/usr/local/lib/python3.7/dist-packages/matplotlib/backends/backend_agg.py:183: RuntimeWarning: Glyph 2472 missing from current font.\n",
            "  font.set_text(s, 0, flags=flags)\n",
            "/usr/local/lib/python3.7/dist-packages/matplotlib/backends/backend_agg.py:183: RuntimeWarning: Glyph 2494 missing from current font.\n",
            "  font.set_text(s, 0, flags=flags)\n"
          ],
          "name": "stderr"
        },
        {
          "output_type": "display_data",
          "data": {
            "image/png": "[encoded data removed]",
            "text/plain": [
              "<Figure size 1008x432 with 1 Axes>"
            ]
          },
          "metadata": {
            "tags": [],
            "needs_background": "light"
          }
        }
      ]
    },
    {
      "cell_type": "code",
      "metadata": {
        "id": "TOpkPRsEp1so"
      },
      "source": [
        ""
      ],
      "execution_count": null,
      "outputs": []
    }
  ]
}